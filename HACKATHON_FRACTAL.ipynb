{
  "nbformat": 4,
  "nbformat_minor": 0,
  "metadata": {
    "colab": {
      "provenance": [],
      "authorship_tag": "ABX9TyOBZbFo2eygBaLmgDyIDO/P",
      "include_colab_link": true
    },
    "kernelspec": {
      "name": "python3",
      "display_name": "Python 3"
    },
    "language_info": {
      "name": "python"
    }
  },
  "cells": [
    {
      "cell_type": "markdown",
      "metadata": {
        "id": "view-in-github",
        "colab_type": "text"
      },
      "source": [
        "<a href=\"https://colab.research.google.com/github/CAT-ROM/Water-Quality-Check/blob/main/HACKATHON_FRACTAL.ipynb\" target=\"_parent\"><img src=\"https://colab.research.google.com/assets/colab-badge.svg\" alt=\"Open In Colab\"/></a>"
      ]
    },
    {
      "cell_type": "code",
      "execution_count": null,
      "metadata": {
        "colab": {
          "base_uri": "https://localhost:8080/"
        },
        "id": "V2RB6QRMGm3p",
        "outputId": "18144df9-cf15-47bb-a2bc-3cceec282ffe"
      },
      "outputs": [
        {
          "output_type": "stream",
          "name": "stdout",
          "text": [
            "Validation MSE: 0.0865\n",
            "Submission file created successfully.\n",
            "\n",
            "First few rows of submission:\n",
            "   Index  Potability\n",
            "0  10000    0.867304\n",
            "1  10001    1.013202\n",
            "2  10002    0.963132\n",
            "3  10003    0.791805\n",
            "4  10004    0.944923\n"
          ]
        }
      ],
      "source": [
        "import pandas as pd\n",
        "import numpy as np\n",
        "import re\n",
        "from sklearn.model_selection import train_test_split\n",
        "from sklearn.ensemble import RandomForestRegressor\n",
        "from sklearn.metrics import mean_squared_error\n",
        "\n",
        "import pandas as pd\n",
        "import numpy as np\n",
        "import re\n",
        "from sklearn.model_selection import train_test_split\n",
        "from sklearn.ensemble import RandomForestRegressor\n",
        "from sklearn.metrics import mean_squared_error\n",
        "\n",
        "# Load dataset\n",
        "train_data = pd.read_csv('train.csv')\n",
        "test_data = pd.read_csv('test.csv')\n",
        "\n",
        "# clean the text\n",
        "def extract_numeric(text):\n",
        "    if isinstance(text, str):\n",
        "\n",
        "        numbers = re.findall(r\"[-+]?\\d*\\.\\d+|\\d+\", text)\n",
        "\n",
        "        return float(numbers[0]) if numbers else None\n",
        "    return None\n",
        "\n",
        "# Clean relevant columns\n",
        "columns_to_clean = ['ph', 'Hardness', 'Solids', 'Chloramines', 'Sulfate',\n",
        "                    'Conductivity', 'Organic_carbon', 'Trihalomethanes', 'Turbidity']\n",
        "for column in columns_to_clean:\n",
        "    train_data[column] = train_data[column].apply(extract_numeric)\n",
        "    test_data[column] = test_data[column].apply(extract_numeric)\n",
        "\n",
        "# missing values\n",
        "for df in [train_data, test_data]:\n",
        "    df.fillna(df.mean(numeric_only=True), inplace=True)\n",
        "\n",
        "# features and target\n",
        "X = train_data.drop(columns=['Index', 'Potability'])\n",
        "y = train_data['Potability']\n",
        "\n",
        "# Step 1: Splitting the Data\n",
        "X_train, X_val, y_train, y_val = train_test_split(X, y, test_size=0.2, random_state=42)\n",
        "\n",
        "# Step 2: Model Selection\n",
        "model = RandomForestRegressor(random_state=42)\n",
        "\n",
        "# Step 3: Model Training\n",
        "model.fit(X_train, y_train)\n",
        "\n",
        "# Step 4: Model Evaluation\n",
        "val_predictions = model.predict(X_val)\n",
        "val_mse = mean_squared_error(y_val, val_predictions)\n",
        "print(f'Validation MSE: {val_mse:.4f}')\n",
        "\n",
        "# Step 5: Predictions on Test Data\n",
        "test_features = test_data.drop(columns=['Index'])\n",
        "test_probabilities = model.predict(test_features)\n",
        "\n",
        "# Step 6: Submission\n",
        "submission = pd.DataFrame({\n",
        "    'Index': test_data['Index'],\n",
        "    'Potability': test_probabilities\n",
        "})\n",
        "\n",
        "# submission DataFrame to a CSV file\n",
        "submission.to_csv('submission.csv', index=False)\n",
        "\n",
        "print(\"Submission file created successfully.\")\n",
        "print(\"\\nFirst few rows of submission:\")\n",
        "print(submission.head())"
      ]
    },
    {
      "cell_type": "code",
      "source": [
        "from google.colab import files\n",
        "files.download('submission.csv')"
      ],
      "metadata": {
        "colab": {
          "base_uri": "https://localhost:8080/",
          "height": 17
        },
        "id": "ITTV1GatIdnY",
        "outputId": "3125e90c-7fc6-4f18-fb1d-20876333666b"
      },
      "execution_count": null,
      "outputs": [
        {
          "output_type": "display_data",
          "data": {
            "text/plain": [
              "<IPython.core.display.Javascript object>"
            ],
            "application/javascript": [
              "\n",
              "    async function download(id, filename, size) {\n",
              "      if (!google.colab.kernel.accessAllowed) {\n",
              "        return;\n",
              "      }\n",
              "      const div = document.createElement('div');\n",
              "      const label = document.createElement('label');\n",
              "      label.textContent = `Downloading \"${filename}\": `;\n",
              "      div.appendChild(label);\n",
              "      const progress = document.createElement('progress');\n",
              "      progress.max = size;\n",
              "      div.appendChild(progress);\n",
              "      document.body.appendChild(div);\n",
              "\n",
              "      const buffers = [];\n",
              "      let downloaded = 0;\n",
              "\n",
              "      const channel = await google.colab.kernel.comms.open(id);\n",
              "      // Send a message to notify the kernel that we're ready.\n",
              "      channel.send({})\n",
              "\n",
              "      for await (const message of channel.messages) {\n",
              "        // Send a message to notify the kernel that we're ready.\n",
              "        channel.send({})\n",
              "        if (message.buffers) {\n",
              "          for (const buffer of message.buffers) {\n",
              "            buffers.push(buffer);\n",
              "            downloaded += buffer.byteLength;\n",
              "            progress.value = downloaded;\n",
              "          }\n",
              "        }\n",
              "      }\n",
              "      const blob = new Blob(buffers, {type: 'application/binary'});\n",
              "      const a = document.createElement('a');\n",
              "      a.href = window.URL.createObjectURL(blob);\n",
              "      a.download = filename;\n",
              "      div.appendChild(a);\n",
              "      a.click();\n",
              "      div.remove();\n",
              "    }\n",
              "  "
            ]
          },
          "metadata": {}
        },
        {
          "output_type": "display_data",
          "data": {
            "text/plain": [
              "<IPython.core.display.Javascript object>"
            ],
            "application/javascript": [
              "download(\"download_2523b4fc-0aca-451a-90f2-4ba2a523ce2e\", \"submission.csv\", 124190)"
            ]
          },
          "metadata": {}
        }
      ]
    }
  ]
}